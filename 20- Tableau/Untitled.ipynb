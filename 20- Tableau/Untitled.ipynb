{
 "cells": [
  {
   "cell_type": "code",
   "execution_count": 2,
   "metadata": {},
   "outputs": [],
   "source": [
    "# Dependencies and Setupjj\n",
    "%matplotlib inline\n",
    "import matplotlib.pyplot as plt\n",
    "import pandas as pd\n",
    "import numpy as np\n",
    "from functools import reduce\n",
    "\n",
    "pd.set_option('display.max_rows', 500)\n",
    "pd.set_option('display.max_columns', 500)\n",
    "pd.set_option('display.width', 1000)\n",
    "\n",
    "# Hide warning messages in notebook\n",
    "import warnings\n",
    "warnings.filterwarnings('ignore')\n",
    "\n",
    "# File scruboad (Remember to Change These)\n",
    "data_to_load1 = \"Resources/201807-citibike-tripdata.csv\"\n",
    "data_to_load2 = \"Resources/201808-citibike-tripdata.csv\"\n",
    "data_to_load3 = \"Resources/201907-citibike-tripdata.csv\"\n",
    "data_to_load4 = \"Resources/201908-citibike-tripdata.csv\"\n",
    "\n",
    "dataN18 = pd.read_csv(data_to_load1)\n",
    "dataQ18 = pd.read_csv(data_to_load2)\n",
    "dataN19 = pd.read_csv(data_to_load3)\n",
    "dataQ19 = pd.read_csv(data_to_load4)\n",
    "\n",
    "\n"
   ]
  },
  {
   "cell_type": "code",
   "execution_count": 6,
   "metadata": {},
   "outputs": [],
   "source": [
    "Data_All = pd.concat([\n",
    "    dataN18,dataQ18,dataN19,dataQ19\n",
    "],ignore_index=True)\n",
    "# data.head()"
   ]
  },
  {
   "cell_type": "code",
   "execution_count": 11,
   "metadata": {},
   "outputs": [
    {
     "data": {
      "text/html": [
       "<div>\n",
       "<style scoped>\n",
       "    .dataframe tbody tr th:only-of-type {\n",
       "        vertical-align: middle;\n",
       "    }\n",
       "\n",
       "    .dataframe tbody tr th {\n",
       "        vertical-align: top;\n",
       "    }\n",
       "\n",
       "    .dataframe thead th {\n",
       "        text-align: right;\n",
       "    }\n",
       "</style>\n",
       "<table border=\"1\" class=\"dataframe\">\n",
       "  <thead>\n",
       "    <tr style=\"text-align: right;\">\n",
       "      <th></th>\n",
       "      <th>tripduration</th>\n",
       "      <th>starttime</th>\n",
       "      <th>stoptime</th>\n",
       "      <th>start station id</th>\n",
       "      <th>start station name</th>\n",
       "      <th>start station latitude</th>\n",
       "      <th>start station longitude</th>\n",
       "      <th>end station id</th>\n",
       "      <th>end station name</th>\n",
       "      <th>end station latitude</th>\n",
       "      <th>end station longitude</th>\n",
       "      <th>bikeid</th>\n",
       "      <th>usertype</th>\n",
       "      <th>birth year</th>\n",
       "      <th>gender</th>\n",
       "    </tr>\n",
       "  </thead>\n",
       "  <tbody>\n",
       "    <tr>\n",
       "      <th>0</th>\n",
       "      <td>500</td>\n",
       "      <td>2018-07-01 00:33:51.2640</td>\n",
       "      <td>2018-07-01 00:42:12.0280</td>\n",
       "      <td>72.0</td>\n",
       "      <td>W 52 St &amp; 11 Ave</td>\n",
       "      <td>40.767272</td>\n",
       "      <td>-73.993929</td>\n",
       "      <td>3236.0</td>\n",
       "      <td>W 42 St &amp; Dyer Ave</td>\n",
       "      <td>40.758985</td>\n",
       "      <td>-73.993800</td>\n",
       "      <td>16583</td>\n",
       "      <td>Subscriber</td>\n",
       "      <td>1981</td>\n",
       "      <td>1</td>\n",
       "    </tr>\n",
       "    <tr>\n",
       "      <th>1</th>\n",
       "      <td>455</td>\n",
       "      <td>2018-07-01 02:06:54.0270</td>\n",
       "      <td>2018-07-01 02:14:29.0900</td>\n",
       "      <td>72.0</td>\n",
       "      <td>W 52 St &amp; 11 Ave</td>\n",
       "      <td>40.767272</td>\n",
       "      <td>-73.993929</td>\n",
       "      <td>529.0</td>\n",
       "      <td>W 42 St &amp; 8 Ave</td>\n",
       "      <td>40.757570</td>\n",
       "      <td>-73.990985</td>\n",
       "      <td>31481</td>\n",
       "      <td>Subscriber</td>\n",
       "      <td>1988</td>\n",
       "      <td>1</td>\n",
       "    </tr>\n",
       "    <tr>\n",
       "      <th>2</th>\n",
       "      <td>1080</td>\n",
       "      <td>2018-07-01 02:09:16.4640</td>\n",
       "      <td>2018-07-01 02:27:17.0290</td>\n",
       "      <td>72.0</td>\n",
       "      <td>W 52 St &amp; 11 Ave</td>\n",
       "      <td>40.767272</td>\n",
       "      <td>-73.993929</td>\n",
       "      <td>453.0</td>\n",
       "      <td>W 22 St &amp; 8 Ave</td>\n",
       "      <td>40.744751</td>\n",
       "      <td>-73.999154</td>\n",
       "      <td>25004</td>\n",
       "      <td>Subscriber</td>\n",
       "      <td>1982</td>\n",
       "      <td>2</td>\n",
       "    </tr>\n",
       "    <tr>\n",
       "      <th>3</th>\n",
       "      <td>632</td>\n",
       "      <td>2018-07-01 02:55:04.5870</td>\n",
       "      <td>2018-07-01 03:05:36.7910</td>\n",
       "      <td>72.0</td>\n",
       "      <td>W 52 St &amp; 11 Ave</td>\n",
       "      <td>40.767272</td>\n",
       "      <td>-73.993929</td>\n",
       "      <td>465.0</td>\n",
       "      <td>Broadway &amp; W 41 St</td>\n",
       "      <td>40.755136</td>\n",
       "      <td>-73.986580</td>\n",
       "      <td>25867</td>\n",
       "      <td>Subscriber</td>\n",
       "      <td>1986</td>\n",
       "      <td>1</td>\n",
       "    </tr>\n",
       "    <tr>\n",
       "      <th>4</th>\n",
       "      <td>1676</td>\n",
       "      <td>2018-07-01 03:24:27.4350</td>\n",
       "      <td>2018-07-01 03:52:23.7760</td>\n",
       "      <td>72.0</td>\n",
       "      <td>W 52 St &amp; 11 Ave</td>\n",
       "      <td>40.767272</td>\n",
       "      <td>-73.993929</td>\n",
       "      <td>3425.0</td>\n",
       "      <td>2 Ave &amp; E 104 St</td>\n",
       "      <td>40.789210</td>\n",
       "      <td>-73.943708</td>\n",
       "      <td>31351</td>\n",
       "      <td>Subscriber</td>\n",
       "      <td>1992</td>\n",
       "      <td>1</td>\n",
       "    </tr>\n",
       "  </tbody>\n",
       "</table>\n",
       "</div>"
      ],
      "text/plain": [
       "   tripduration                 starttime                  stoptime  start station id start station name  start station latitude  start station longitude  end station id    end station name  end station latitude  end station longitude  bikeid    usertype  birth year  gender\n",
       "0           500  2018-07-01 00:33:51.2640  2018-07-01 00:42:12.0280              72.0   W 52 St & 11 Ave               40.767272               -73.993929          3236.0  W 42 St & Dyer Ave             40.758985             -73.993800   16583  Subscriber        1981       1\n",
       "1           455  2018-07-01 02:06:54.0270  2018-07-01 02:14:29.0900              72.0   W 52 St & 11 Ave               40.767272               -73.993929           529.0     W 42 St & 8 Ave             40.757570             -73.990985   31481  Subscriber        1988       1\n",
       "2          1080  2018-07-01 02:09:16.4640  2018-07-01 02:27:17.0290              72.0   W 52 St & 11 Ave               40.767272               -73.993929           453.0     W 22 St & 8 Ave             40.744751             -73.999154   25004  Subscriber        1982       2\n",
       "3           632  2018-07-01 02:55:04.5870  2018-07-01 03:05:36.7910              72.0   W 52 St & 11 Ave               40.767272               -73.993929           465.0  Broadway & W 41 St             40.755136             -73.986580   25867  Subscriber        1986       1\n",
       "4          1676  2018-07-01 03:24:27.4350  2018-07-01 03:52:23.7760              72.0   W 52 St & 11 Ave               40.767272               -73.993929          3425.0    2 Ave & E 104 St             40.789210             -73.943708   31351  Subscriber        1992       1"
      ]
     },
     "execution_count": 11,
     "metadata": {},
     "output_type": "execute_result"
    }
   ],
   "source": [
    "Data_All.head()"
   ]
  },
  {
   "cell_type": "code",
   "execution_count": 19,
   "metadata": {},
   "outputs": [
    {
     "data": {
      "text/plain": [
       "40025"
      ]
     },
     "execution_count": 19,
     "metadata": {},
     "output_type": "execute_result"
    }
   ],
   "source": [
    "#Unique values of columns \n",
    "# Data_All.gender.unique()\n",
    "#max\n",
    "# Data_All.tripduration.max()\n",
    "# max w\\ record\n",
    "# Data_All.loc[Data_All['tripduration'].idxmax()]\n",
    "\n",
    "Data_All.bikeid.max()\n"
   ]
  },
  {
   "cell_type": "code",
   "execution_count": null,
   "metadata": {},
   "outputs": [],
   "source": [
    "Data_All.groupby([('tripduration','start station id', 'start station latitude','start station longitude','bikeid''usertype','gender')])"
   ]
  },
  {
   "cell_type": "code",
   "execution_count": 10,
   "metadata": {},
   "outputs": [],
   "source": [
    "Data_All.to_csv('Data_final_data.csv')\n",
    "# data.to_csv(file_name+'_final_data'+'.csv')\n"
   ]
  },
  {
   "cell_type": "code",
   "execution_count": 18,
   "metadata": {},
   "outputs": [
    {
     "data": {
      "text/plain": [
       "tripduration                                4829587\n",
       "starttime                  2018-07-11 17:19:16.4680\n",
       "stoptime                   2018-09-05 14:52:24.0950\n",
       "start station id                               3628\n",
       "start station name             Lenox Ave & W 117 St\n",
       "start station latitude                      40.8026\n",
       "start station longitude                    -73.9491\n",
       "end station id                                 3245\n",
       "end station name             NYCBS DEPOT - DELANCEY\n",
       "end station latitude                        40.7164\n",
       "end station longitude                      -73.9823\n",
       "bikeid                                        28728\n",
       "usertype                                 Subscriber\n",
       "birth year                                     1989\n",
       "gender                                            1\n",
       "Name: 1830192, dtype: object"
      ]
     },
     "execution_count": 18,
     "metadata": {},
     "output_type": "execute_result"
    }
   ],
   "source": []
  },
  {
   "cell_type": "code",
   "execution_count": 21,
   "metadata": {},
   "outputs": [
    {
     "data": {
      "text/plain": [
       "Index(['tripduration', 'starttime', 'stoptime', 'start station id', 'start station name', 'start station latitude', 'start station longitude', 'end station id', 'end station name', 'end station latitude', 'end station longitude', 'bikeid', 'usertype', 'birth year', 'gender'], dtype='object')"
      ]
     },
     "execution_count": 21,
     "metadata": {},
     "output_type": "execute_result"
    }
   ],
   "source": [
    "Data_All.columns"
   ]
  },
  {
   "cell_type": "code",
   "execution_count": 13,
   "metadata": {},
   "outputs": [
    {
     "name": "stdout",
     "output_type": "stream",
     "text": [
      "<class 'pandas.core.frame.DataFrame'>\n",
      "RangeIndex: 8416090 entries, 0 to 8416089\n",
      "Data columns (total 15 columns):\n",
      "tripduration               int64\n",
      "starttime                  object\n",
      "stoptime                   object\n",
      "start station id           float64\n",
      "start station name         object\n",
      "start station latitude     float64\n",
      "start station longitude    float64\n",
      "end station id             float64\n",
      "end station name           object\n",
      "end station latitude       float64\n",
      "end station longitude      float64\n",
      "bikeid                     int64\n",
      "usertype                   object\n",
      "birth year                 int64\n",
      "gender                     int64\n",
      "dtypes: float64(6), int64(4), object(5)\n",
      "memory usage: 963.1+ MB\n"
     ]
    }
   ],
   "source": [
    "Data_All.info()"
   ]
  },
  {
   "cell_type": "code",
   "execution_count": null,
   "metadata": {},
   "outputs": [],
   "source": []
  }
 ],
 "metadata": {
  "kernelspec": {
   "display_name": "Python 3",
   "language": "python",
   "name": "python3"
  },
  "language_info": {
   "codemirror_mode": {
    "name": "ipython",
    "version": 3
   },
   "file_extension": ".py",
   "mimetype": "text/x-python",
   "name": "python",
   "nbconvert_exporter": "python",
   "pygments_lexer": "ipython3",
   "version": "3.7.3"
  }
 },
 "nbformat": 4,
 "nbformat_minor": 2
}
