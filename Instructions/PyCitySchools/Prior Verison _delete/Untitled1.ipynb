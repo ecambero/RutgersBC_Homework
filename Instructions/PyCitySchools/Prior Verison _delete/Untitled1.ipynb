{
 "cells": [
  {
   "cell_type": "code",
   "execution_count": 1,
   "metadata": {},
   "outputs": [
    {
     "name": "stdout",
     "output_type": "stream",
     "text": [
      " Volume in drive C is OS\n",
      " Volume Serial Number is 0E57-C7B5\n",
      "\n",
      " Directory of C:\\Users\\ecamb\\OneDrive\\desktop\\Coding\\RUTJC201904DATA3\\hw\\week4\\Instructions\\PyCitySchools\n",
      "\n",
      "05/12/2019  09:15 AM    <DIR>          .\n",
      "05/12/2019  09:15 AM    <DIR>          ..\n",
      "05/12/2019  09:15 AM    <DIR>          .ipynb_checkpoints\n",
      "05/11/2019  10:52 PM            41,528 PyCitySchools_starter.ipynb\n",
      "05/11/2019  10:44 PM    <DIR>          Resources\n",
      "05/12/2019  09:15 AM             1,499 Untitled.ipynb\n",
      "05/12/2019  09:15 AM                72 Untitled1.ipynb\n",
      "               3 File(s)         43,099 bytes\n",
      "               4 Dir(s)  152,615,755,776 bytes free\n"
     ]
    }
   ],
   "source": [
    "ls\n"
   ]
  },
  {
   "cell_type": "code",
   "execution_count": 2,
   "metadata": {},
   "outputs": [
    {
     "name": "stdout",
     "output_type": "stream",
     "text": [
      "C:\\Users\\ecamb\\OneDrive\\desktop\\Coding\\RUTJC201904DATA3\\hw\\week4\\Instructions\n"
     ]
    }
   ],
   "source": [
    "cd ..\n"
   ]
  },
  {
   "cell_type": "code",
   "execution_count": 3,
   "metadata": {},
   "outputs": [
    {
     "name": "stdout",
     "output_type": "stream",
     "text": [
      "C:\\Users\\ecamb\n"
     ]
    }
   ],
   "source": [
    "cd"
   ]
  },
  {
   "cell_type": "code",
   "execution_count": null,
   "metadata": {},
   "outputs": [],
   "source": [
    "cd \\OneDrive\\desktop\\Coding"
   ]
  }
 ],
 "metadata": {
  "kernelspec": {
   "display_name": "Python 3",
   "language": "python",
   "name": "python3"
  },
  "language_info": {
   "codemirror_mode": {
    "name": "ipython",
    "version": 3
   },
   "file_extension": ".py",
   "mimetype": "text/x-python",
   "name": "python",
   "nbconvert_exporter": "python",
   "pygments_lexer": "ipython3",
   "version": "3.6.8"
  }
 },
 "nbformat": 4,
 "nbformat_minor": 2
}
