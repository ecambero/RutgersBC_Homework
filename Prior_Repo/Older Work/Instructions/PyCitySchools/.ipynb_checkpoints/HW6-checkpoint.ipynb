{
 "cells": [
  {
   "cell_type": "code",
   "execution_count": 1,
   "metadata": {},
   "outputs": [],
   "source": [
    "\n",
    "# Dependencies and Setup\n",
    "import pandas as pd\n",
    "import numpy as np\n",
    "import locale as lc\n",
    "\n",
    "# File to Load (Remember to Change These)\n",
    "school_data_to_load = \"schools_complete.csv\"\n",
    "student_data_to_load = \"students_complete.csv\"\n",
    "\n",
    "# Read School and Student Data File and store into Pandas Data Frames\n",
    "school_data = pd.read_csv(school_data_to_load)\n",
    "student_data = pd.read_csv(student_data_to_load)\n",
    "\n",
    "# Combine the data into a single dataset\n",
    "school_data_complete = pd.merge(student_data, school_data, how=\"left\", on=[\"school_name\", \"school_name\"])\n"
   ]
  },
  {
   "cell_type": "code",
   "execution_count": null,
   "metadata": {},
   "outputs": [],
   "source": [
    "\n",
    "#school_data_complete.describe()\n",
    "#school_data_complete.head(10)\n",
    "student_data.head(10), school_data.head(10)\n",
    "\n",
    "\n"
   ]
  },
  {
   "cell_type": "code",
   "execution_count": null,
   "metadata": {},
   "outputs": [],
   "source": [
    "#District Summary\n",
    "Total_School=school_data.school_name.count()\n",
    "Total_Students=student_data.student_name.count()\n",
    "Total_Budget=school_data.budget.sum()\n",
    "Average_Math_Score=round(student_data.math_score.mean(),2)\n",
    "Average_Reading_Score=round(student_data.reading_score.mean(),2)\n",
    "Overall_Passing_Rate = round((Average_Math_Score+Average_Reading_Score)/2,2)\n",
    "Passing_Math_df = student_data[student_data.math_score>=70]\n",
    "Passing_Read_df = student_data[student_data.reading_score>=70]\n",
    "Passing_math=round(Passing_Math_df.student_name.count()/Total_Students,4)\n",
    "Passing_read=round(Passing_Read_df.student_name.count()/Total_Students,4)\n",
    "\n",
    "#Passing_math,Passing_read\n"
   ]
  },
  {
   "cell_type": "code",
   "execution_count": null,
   "metadata": {},
   "outputs": [],
   "source": [
    "print(\"Total School\", Total_School)\n",
    "print(\"Total Students\", Total_Students)\n",
    "print(\"Total Budget\", '${:,.2f}'.format(Total_Budget))\n",
    "print(\"Average Math Score\", Average_Math_Score,\"%\")\n",
    "print(\"Average Reading Score\", Average_Reading_Score,\"%\")\n",
    "print(\"% Passing Math\", Passing_math*100,\"%\")\n",
    "print(\"% Passing Reading\", Passing_read*100,\"%\")\n",
    "print(\"% Overall Passing Rate\", Overall_Passing_Rate,\"%\")"
   ]
  },
  {
   "cell_type": "code",
   "execution_count": 59,
   "metadata": {},
   "outputs": [],
   "source": []
  },
  {
   "cell_type": "code",
   "execution_count": 96,
   "metadata": {},
   "outputs": [
    {
     "data": {
      "text/html": [
       "<div>\n",
       "<style scoped>\n",
       "    .dataframe tbody tr th:only-of-type {\n",
       "        vertical-align: middle;\n",
       "    }\n",
       "\n",
       "    .dataframe tbody tr th {\n",
       "        vertical-align: top;\n",
       "    }\n",
       "\n",
       "    .dataframe thead th {\n",
       "        text-align: right;\n",
       "    }\n",
       "</style>\n",
       "<table border=\"1\" class=\"dataframe\">\n",
       "  <thead>\n",
       "    <tr style=\"text-align: right;\">\n",
       "      <th></th>\n",
       "      <th>Total Schools</th>\n",
       "      <th>Total Students</th>\n",
       "      <th>Total Budget</th>\n",
       "      <th>Average Math Score</th>\n",
       "      <th>Average Reading Score</th>\n",
       "      <th>% Passing Math</th>\n",
       "      <th>% Passing Reading</th>\n",
       "      <th>% Overall Passing Rate</th>\n",
       "    </tr>\n",
       "  </thead>\n",
       "  <tbody>\n",
       "    <tr>\n",
       "      <th>0</th>\n",
       "      <td>15</td>\n",
       "      <td>39170</td>\n",
       "      <td>$24,649,428.00</td>\n",
       "      <td>78.99</td>\n",
       "      <td>81.88</td>\n",
       "      <td>0.7498</td>\n",
       "      <td>0.8581</td>\n",
       "      <td>80.44</td>\n",
       "    </tr>\n",
       "  </tbody>\n",
       "</table>\n",
       "</div>"
      ],
      "text/plain": [
       "   Total Schools  Total Students    Total Budget  Average Math Score  \\\n",
       "0             15           39170  $24,649,428.00               78.99   \n",
       "\n",
       "   Average Reading Score  % Passing Math  % Passing Reading  \\\n",
       "0                  81.88          0.7498             0.8581   \n",
       "\n",
       "   % Overall Passing Rate  \n",
       "0                   80.44  "
      ]
     },
     "execution_count": 96,
     "metadata": {},
     "output_type": "execute_result"
    }
   ],
   "source": [
    "District_Summary = pd.DataFrame()\n",
    "District_Summary = pd.DataFrame({'Total Schools':Total_School}, index=[0])\n",
    "District_Summary['Total Students'] = Total_Students\n",
    "District_Summary['Total Budget'] = '${:,.2f}'.format(Total_Budget)\n",
    "District_Summary['Average Math Score'] = Average_Math_Score\n",
    "District_Summary['Average Reading Score'] = Average_Reading_Score\n",
    "District_Summary['% Passing Math'] = Passing_math\n",
    "District_Summary['% Passing Reading'] = Passing_read\n",
    "District_Summary['% Overall Passing Rate'] = Overall_Passing_Rate\n",
    "#District_Summary.loc[1] = [0]*8\n",
    "District_Summary.head(10)"
   ]
  },
  {
   "cell_type": "code",
   "execution_count": null,
   "metadata": {},
   "outputs": [],
   "source": [
    "#District Summary\n",
    "# Create an overview table that summarizes key metrics about each school, including:\n",
    "  # School Name\n",
    "  # School Type\n",
    "  # Total Students\n",
    "  # Total School Budget\n",
    "  # Per Student Budget\n",
    "  # Average Math Score\n",
    "  # Average Reading Score\n",
    "  # % Passing Math\n",
    "  # % Passing Reading\n",
    "  # Overall Passing Rate (Average of the above two)\n",
    "  \n",
    "# Create a dataframe to hold the above results"
   ]
  },
  {
   "cell_type": "code",
   "execution_count": 119,
   "metadata": {},
   "outputs": [
    {
     "data": {
      "text/plain": [
       "(   School ID            school_name      type  size   budget\n",
       " 0          0      Huang High School  District  2917  1910635\n",
       " 1          1   Figueroa High School  District  2949  1884411\n",
       " 2          2    Shelton High School   Charter  1761  1056600\n",
       " 3          3  Hernandez High School  District  4635  3022020\n",
       " 4          4    Griffin High School   Charter  1468   917500\n",
       " 5          5     Wilson High School   Charter  2283  1319574\n",
       " 6          6    Cabrera High School   Charter  1858  1081356\n",
       " 7          7     Bailey High School  District  4976  3124928\n",
       " 8          8     Holden High School   Charter   427   248087\n",
       " 9          9       Pena High School   Charter   962   585858,\n",
       "    Student ID       student_name gender grade        school_name  \\\n",
       " 0           0       Paul Bradley      M   9th  Huang High School   \n",
       " 1           1       Victor Smith      M  12th  Huang High School   \n",
       " 2           2    Kevin Rodriguez      M  12th  Huang High School   \n",
       " 3           3  Dr. Richard Scott      M  12th  Huang High School   \n",
       " 4           4         Bonnie Ray      F   9th  Huang High School   \n",
       " 5           5      Bryan Miranda      M   9th  Huang High School   \n",
       " 6           6      Sheena Carter      F  11th  Huang High School   \n",
       " 7           7       Nicole Baker      F  12th  Huang High School   \n",
       " 8           8       Michael Roth      M  10th  Huang High School   \n",
       " 9           9     Matthew Greene      M  10th  Huang High School   \n",
       " \n",
       "    reading_score  math_score  \n",
       " 0             66          79  \n",
       " 1             94          61  \n",
       " 2             90          60  \n",
       " 3             67          58  \n",
       " 4             97          84  \n",
       " 5             94          94  \n",
       " 6             82          80  \n",
       " 7             96          69  \n",
       " 8             95          87  \n",
       " 9             96          84  )"
      ]
     },
     "execution_count": 119,
     "metadata": {},
     "output_type": "execute_result"
    }
   ],
   "source": [
    "school_data.head(10),student_data.head(10)"
   ]
  },
  {
   "cell_type": "code",
   "execution_count": 126,
   "metadata": {},
   "outputs": [
    {
     "data": {
      "text/plain": [
       "reading_score    81.877840\n",
       "math_score       78.985371\n",
       "dtype: float64"
      ]
     },
     "execution_count": 126,
     "metadata": {},
     "output_type": "execute_result"
    }
   ],
   "source": [
    "\n",
    "\n",
    "\n",
    "#slicing the data\n",
    "#School Stats# \n",
    "SS = student_data.filter(['school_name','reading_score','math_score'])\n",
    "\n",
    "SS.agg(\"mean\", axis=\"rows\") group by \n",
    "\n",
    "\n",
    "#ppnr = data.filter(like = 'ppnr')\n",
    "#dbb = data.filter(like = 'DBB_T')\n",
    "SS.head(10)"
   ]
  },
  {
   "cell_type": "code",
   "execution_count": 113,
   "metadata": {},
   "outputs": [
    {
     "data": {
      "text/plain": [
       "39170"
      ]
     },
     "execution_count": 113,
     "metadata": {},
     "output_type": "execute_result"
    }
   ],
   "source": [
    "school_data['size'].sum()"
   ]
  },
  {
   "cell_type": "code",
   "execution_count": 137,
   "metadata": {},
   "outputs": [
    {
     "data": {
      "text/html": [
       "<div>\n",
       "<style scoped>\n",
       "    .dataframe tbody tr th:only-of-type {\n",
       "        vertical-align: middle;\n",
       "    }\n",
       "\n",
       "    .dataframe tbody tr th {\n",
       "        vertical-align: top;\n",
       "    }\n",
       "\n",
       "    .dataframe thead th {\n",
       "        text-align: right;\n",
       "    }\n",
       "</style>\n",
       "<table border=\"1\" class=\"dataframe\">\n",
       "  <thead>\n",
       "    <tr style=\"text-align: right;\">\n",
       "      <th></th>\n",
       "      <th>reading_score</th>\n",
       "      <th>math_score</th>\n",
       "    </tr>\n",
       "    <tr>\n",
       "      <th>school_name</th>\n",
       "      <th></th>\n",
       "      <th></th>\n",
       "    </tr>\n",
       "  </thead>\n",
       "  <tbody>\n",
       "    <tr>\n",
       "      <th>Bailey High School</th>\n",
       "      <td>81.033963</td>\n",
       "      <td>77.048432</td>\n",
       "    </tr>\n",
       "    <tr>\n",
       "      <th>Cabrera High School</th>\n",
       "      <td>83.975780</td>\n",
       "      <td>83.061895</td>\n",
       "    </tr>\n",
       "    <tr>\n",
       "      <th>Figueroa High School</th>\n",
       "      <td>81.158020</td>\n",
       "      <td>76.711767</td>\n",
       "    </tr>\n",
       "    <tr>\n",
       "      <th>Ford High School</th>\n",
       "      <td>80.746258</td>\n",
       "      <td>77.102592</td>\n",
       "    </tr>\n",
       "    <tr>\n",
       "      <th>Griffin High School</th>\n",
       "      <td>83.816757</td>\n",
       "      <td>83.351499</td>\n",
       "    </tr>\n",
       "    <tr>\n",
       "      <th>Hernandez High School</th>\n",
       "      <td>80.934412</td>\n",
       "      <td>77.289752</td>\n",
       "    </tr>\n",
       "    <tr>\n",
       "      <th>Holden High School</th>\n",
       "      <td>83.814988</td>\n",
       "      <td>83.803279</td>\n",
       "    </tr>\n",
       "    <tr>\n",
       "      <th>Huang High School</th>\n",
       "      <td>81.182722</td>\n",
       "      <td>76.629414</td>\n",
       "    </tr>\n",
       "    <tr>\n",
       "      <th>Johnson High School</th>\n",
       "      <td>80.966394</td>\n",
       "      <td>77.072464</td>\n",
       "    </tr>\n",
       "    <tr>\n",
       "      <th>Pena High School</th>\n",
       "      <td>84.044699</td>\n",
       "      <td>83.839917</td>\n",
       "    </tr>\n",
       "    <tr>\n",
       "      <th>Rodriguez High School</th>\n",
       "      <td>80.744686</td>\n",
       "      <td>76.842711</td>\n",
       "    </tr>\n",
       "    <tr>\n",
       "      <th>Shelton High School</th>\n",
       "      <td>83.725724</td>\n",
       "      <td>83.359455</td>\n",
       "    </tr>\n",
       "    <tr>\n",
       "      <th>Thomas High School</th>\n",
       "      <td>83.848930</td>\n",
       "      <td>83.418349</td>\n",
       "    </tr>\n",
       "    <tr>\n",
       "      <th>Wilson High School</th>\n",
       "      <td>83.989488</td>\n",
       "      <td>83.274201</td>\n",
       "    </tr>\n",
       "    <tr>\n",
       "      <th>Wright High School</th>\n",
       "      <td>83.955000</td>\n",
       "      <td>83.682222</td>\n",
       "    </tr>\n",
       "  </tbody>\n",
       "</table>\n",
       "</div>"
      ],
      "text/plain": [
       "                       reading_score  math_score\n",
       "school_name                                     \n",
       "Bailey High School         81.033963   77.048432\n",
       "Cabrera High School        83.975780   83.061895\n",
       "Figueroa High School       81.158020   76.711767\n",
       "Ford High School           80.746258   77.102592\n",
       "Griffin High School        83.816757   83.351499\n",
       "Hernandez High School      80.934412   77.289752\n",
       "Holden High School         83.814988   83.803279\n",
       "Huang High School          81.182722   76.629414\n",
       "Johnson High School        80.966394   77.072464\n",
       "Pena High School           84.044699   83.839917\n",
       "Rodriguez High School      80.744686   76.842711\n",
       "Shelton High School        83.725724   83.359455\n",
       "Thomas High School         83.848930   83.418349\n",
       "Wilson High School         83.989488   83.274201\n",
       "Wright High School         83.955000   83.682222"
      ]
     },
     "execution_count": 137,
     "metadata": {},
     "output_type": "execute_result"
    }
   ],
   "source": [
    "SS.groupby('school_name')['reading_score','math_score'].mean()"
   ]
  },
  {
   "cell_type": "code",
   "execution_count": null,
   "metadata": {},
   "outputs": [],
   "source": []
  },
  {
   "cell_type": "code",
   "execution_count": 80,
   "metadata": {},
   "outputs": [],
   "source": []
  },
  {
   "cell_type": "code",
   "execution_count": null,
   "metadata": {},
   "outputs": [],
   "source": []
  },
  {
   "cell_type": "code",
   "execution_count": 83,
   "metadata": {},
   "outputs": [],
   "source": []
  },
  {
   "cell_type": "code",
   "execution_count": null,
   "metadata": {},
   "outputs": [],
   "source": []
  },
  {
   "cell_type": "code",
   "execution_count": null,
   "metadata": {},
   "outputs": [],
   "source": []
  }
 ],
 "metadata": {
  "kernelspec": {
   "display_name": "Python 3",
   "language": "python",
   "name": "python3"
  },
  "language_info": {
   "codemirror_mode": {
    "name": "ipython",
    "version": 3
   },
   "file_extension": ".py",
   "mimetype": "text/x-python",
   "name": "python",
   "nbconvert_exporter": "python",
   "pygments_lexer": "ipython3",
   "version": "3.7.3"
  },
  "projectdetails": {
   "creator_id": "ecambero",
   "notebook_id": "b8d6b959-a4eb-47df-bbde-b95d23db407e",
   "notebook_name": "HW.ipynb",
   "prod_sys": null,
   "project_desc": "",
   "project_id": "5d667ec4-fde8-41b0-9467-bdb62e3f1bea",
   "project_name": "MLS_Class",
   "project_status": null,
   "status": "new"
  }
 },
 "nbformat": 4,
 "nbformat_minor": 2
}
