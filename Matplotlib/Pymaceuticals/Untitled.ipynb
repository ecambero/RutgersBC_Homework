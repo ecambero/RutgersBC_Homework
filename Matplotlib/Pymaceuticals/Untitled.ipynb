{
 "cells": [
  {
   "cell_type": "code",
   "execution_count": 10,
   "metadata": {},
   "outputs": [
    {
     "data": {
      "text/plain": [
       "driver_count    18\n",
       "fare            18\n",
       "ride_id         18\n",
       "dtype: int64"
      ]
     },
     "execution_count": 10,
     "metadata": {},
     "output_type": "execute_result"
    }
   ],
   "source": [
    "%matplotlib inline\n",
    "# Dependencies and Setup\n",
    "import matplotlib.pyplot as plt\n",
    "import pandas as pd\n",
    "import numpy as np\n",
    "\n",
    "\n",
    "# File to Load (Remember to change these)\n",
    "\n",
    "city_data_to_load = \"data/city_data.csv\"\n",
    "ride_data_to_load = \"data/ride_data.csv\"\n",
    "\n",
    "# Read the City and Ride Data\n",
    "\n",
    "city_data = pd.read_csv(\"data/city_data.csv\")\n",
    "ride_data = pd.read_csv(\"data/ride_data.csv\")\n",
    "\n",
    "# Combine the data into a single dataset\n",
    "\n",
    "city_ride_comp = pd.merge(city_data,ride_data, how=\"left\", on=[\"city\",\"city\"]) \n",
    "\n",
    "# Display the data table for preview\n",
    "\n",
    "city_ride_comp.head()\n",
    "\n",
    "\n",
    "#Finding the Average fare per city per city type(Urban, Suburban, Rurual)\n",
    "#count of the rider id (how many rides, the x-axis)\n",
    "\n",
    "Urban_fare = city_ride_comp.groupby(\"type\").mean()\n",
    "#Urban_fare.loc[\"Urban\", \"fare\"]\n",
    "\n",
    "#city_ride_comp.groupby([\"city\",\"type\"]).count() \n",
    "\n",
    "#all the Urban rides\n",
    "Urb_rides = city_ride_comp[city_ride_comp[\"type\"]==\"Urban\"]\n",
    "#all the Suburban rides\n",
    "Sub_rides = city_ride_comp[city_ride_comp[\"type\"]==\"Suburban\"]\n",
    "#all the Rural rides\n",
    "Rur_rides = city_ride_comp[city_ride_comp[\"type\"]==\"Rural\"]\n",
    "\n",
    "Urb_city = Urb_rides.groupby(\"city\").mean()\n",
    "Sub_city = Sub_rides.groupby(\"city\").mean()\n",
    "Rur_city = Rur_rides.groupby(\"city\").mean()\n",
    "\n",
    "#count of of the rider id (how many rides, the x-axis)\n",
    "\n",
    "Rur_city.count()\n"
   ]
  },
  {
   "cell_type": "code",
   "execution_count": 23,
   "metadata": {},
   "outputs": [
    {
     "data": {
      "text/plain": [
       "city          ride_id      \n",
       "Amandaburgh   906850928986     1\n",
       "              1901157522591    1\n",
       "              1995462170530    1\n",
       "              3419454549176    1\n",
       "              3513123734716    1\n",
       "              3701008274871    1\n",
       "              4296858665195    1\n",
       "              4400632718421    1\n",
       "              5528427024492    1\n",
       "              6222134922674    1\n",
       "              6330658179518    1\n",
       "              6455620849753    1\n",
       "              6573820412437    1\n",
       "              7279902884763    1\n",
       "              7550325158038    1\n",
       "              7836117055007    1\n",
       "              8581415267582    1\n",
       "              9975084532253    1\n",
       "Barajasview   766512199846     1\n",
       "              937248382509     1\n",
       "              1314271514395    1\n",
       "              1657106589275    1\n",
       "              1801612492097    1\n",
       "              1829231979881    1\n",
       "              1841073494391    1\n",
       "              2376258275704    1\n",
       "              2612169071005    1\n",
       "              3010027933226    1\n",
       "              3838354230678    1\n",
       "              4108452999906    1\n",
       "                              ..\n",
       "Williamsstad  5023157350397    1\n",
       "              5771635421960    1\n",
       "              5813755050580    1\n",
       "              7099676230210    1\n",
       "              7176452471538    1\n",
       "              7177820757193    1\n",
       "              8562558271094    1\n",
       "              8720870563338    1\n",
       "              8987900630211    1\n",
       "              9109973457376    1\n",
       "Williamsview  23948941587      1\n",
       "              1940440908308    1\n",
       "              1979492913169    1\n",
       "              2195528331786    1\n",
       "              2324596536285    1\n",
       "              2565031924407    1\n",
       "              2677734881755    1\n",
       "              2743576865816    1\n",
       "              2759396812039    1\n",
       "              4148427600673    1\n",
       "              4627033032394    1\n",
       "              4838881371737    1\n",
       "              5050608655121    1\n",
       "              5676167585855    1\n",
       "              6180215746345    1\n",
       "              7451578628999    1\n",
       "              8047769956638    1\n",
       "              8227750445178    1\n",
       "              8549525496025    1\n",
       "              8745531941706    1\n",
       "Name: ride_id, Length: 1625, dtype: int64"
      ]
     },
     "execution_count": 23,
     "metadata": {},
     "output_type": "execute_result"
    }
   ],
   "source": [
    "Urb_city = Urb_rides.groupby(\"city\")['ride_id'].value_counts()\n",
    "\n",
    "Urb_city"
   ]
  },
  {
   "cell_type": "code",
   "execution_count": null,
   "metadata": {},
   "outputs": [],
   "source": []
  },
  {
   "cell_type": "code",
   "execution_count": null,
   "metadata": {},
   "outputs": [],
   "source": []
  }
 ],
 "metadata": {
  "kernelspec": {
   "display_name": "Python 3",
   "language": "python",
   "name": "python3"
  },
  "language_info": {
   "codemirror_mode": {
    "name": "ipython",
    "version": 3
   },
   "file_extension": ".py",
   "mimetype": "text/x-python",
   "name": "python",
   "nbconvert_exporter": "python",
   "pygments_lexer": "ipython3",
   "version": "3.7.3"
  }
 },
 "nbformat": 4,
 "nbformat_minor": 2
}
