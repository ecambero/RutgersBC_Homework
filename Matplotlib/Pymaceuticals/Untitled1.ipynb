{
 "cells": [
  {
   "cell_type": "code",
   "execution_count": 1,
   "metadata": {},
   "outputs": [
    {
     "name": "stdout",
     "output_type": "stream",
     "text": [
      " Volume in drive C has no label.\n",
      " Volume Serial Number is FAB4-5356\n",
      "\n",
      " Directory of C:\\Users\\Owner\\Desktop\\OneDrive\\Desktop\\Coding\\rutgersBC\\Matplotlib\\Pymaceuticals\n",
      "\n",
      "05/26/2019  04:35 PM    <DIR>          .\n",
      "05/26/2019  04:35 PM    <DIR>          ..\n",
      "05/26/2019  04:35 PM    <DIR>          .ipynb_checkpoints\n",
      "05/25/2019  07:36 PM    <DIR>          data\n",
      "05/25/2019  09:54 PM    <DIR>          Images\n",
      "05/26/2019  03:38 PM           130,494 pymaceuticals_starter.ipynb\n",
      "05/26/2019  04:32 PM             6,005 Untitled.ipynb\n",
      "05/26/2019  04:35 PM                72 Untitled1.ipynb\n",
      "               3 File(s)        136,571 bytes\n",
      "               5 Dir(s)  267,151,278,080 bytes free\n"
     ]
    }
   ],
   "source": [
    "ls"
   ]
  },
  {
   "cell_type": "code",
   "execution_count": 5,
   "metadata": {},
   "outputs": [
    {
     "name": "stdout",
     "output_type": "stream",
     "text": [
      " Volume in drive C has no label.\n",
      " Volume Serial Number is FAB4-5356\n",
      "\n",
      " Directory of C:\\Users\\Owner\\Desktop\\OneDrive\\Desktop\\Coding\\rutgersBC\n",
      "\n",
      "05/21/2019  05:59 PM    <DIR>          .\n",
      "05/21/2019  05:59 PM    <DIR>          ..\n",
      "05/23/2019  05:39 PM    <DIR>          .git\n",
      "05/25/2019  06:32 PM    <DIR>          Instructions\n",
      "05/25/2019  07:54 PM    <DIR>          Matplotlib\n",
      "               0 File(s)              0 bytes\n",
      "               5 Dir(s)  267,151,007,744 bytes free\n"
     ]
    }
   ],
   "source": [
    "ls"
   ]
  },
  {
   "cell_type": "code",
   "execution_count": 6,
   "metadata": {},
   "outputs": [
    {
     "name": "stdout",
     "output_type": "stream",
     "text": [
      "C:\\Users\\Owner\\Desktop\\OneDrive\\Desktop\\Coding\\rutgersBC\\Matplotlib\n"
     ]
    }
   ],
   "source": [
    "cd Matplotlib/"
   ]
  },
  {
   "cell_type": "code",
   "execution_count": 7,
   "metadata": {},
   "outputs": [
    {
     "name": "stdout",
     "output_type": "stream",
     "text": [
      " Volume in drive C has no label.\n",
      " Volume Serial Number is FAB4-5356\n",
      "\n",
      " Directory of C:\\Users\\Owner\\Desktop\\OneDrive\\Desktop\\Coding\\rutgersBC\\Matplotlib\n",
      "\n",
      "05/25/2019  07:54 PM    <DIR>          .\n",
      "05/25/2019  07:54 PM    <DIR>          ..\n",
      "05/25/2019  06:08 PM    <DIR>          .ipynb_checkpoints\n",
      "05/25/2019  07:50 PM    <DIR>          Pyber_Hw\n",
      "05/26/2019  04:35 PM    <DIR>          Pymaceuticals\n",
      "               0 File(s)              0 bytes\n",
      "               5 Dir(s)  267,150,090,240 bytes free\n"
     ]
    }
   ],
   "source": [
    "ls"
   ]
  },
  {
   "cell_type": "code",
   "execution_count": null,
   "metadata": {},
   "outputs": [],
   "source": []
  }
 ],
 "metadata": {
  "kernelspec": {
   "display_name": "Python 3",
   "language": "python",
   "name": "python3"
  },
  "language_info": {
   "codemirror_mode": {
    "name": "ipython",
    "version": 3
   },
   "file_extension": ".py",
   "mimetype": "text/x-python",
   "name": "python",
   "nbconvert_exporter": "python",
   "pygments_lexer": "ipython3",
   "version": "3.7.3"
  }
 },
 "nbformat": 4,
 "nbformat_minor": 2
}
