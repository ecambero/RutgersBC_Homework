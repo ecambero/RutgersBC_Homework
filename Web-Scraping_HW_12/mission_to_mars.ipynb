{
 "cells": [
  {
   "cell_type": "code",
   "execution_count": 47,
   "metadata": {},
   "outputs": [],
   "source": [
    "import requests\n",
    "from splinter import Browser\n",
    "import urllib.request\n",
    "import time\n",
    "from bs4 import BeautifulSoup"
   ]
  },
  {
   "cell_type": "code",
   "execution_count": 48,
   "metadata": {},
   "outputs": [],
   "source": [
    "executable_path = {'executable_path': 'chromedriver.exe'}\n",
    "browser = Browser('chrome', **executable_path, headless=False)\n",
    "# print(browser)"
   ]
  },
  {
   "cell_type": "code",
   "execution_count": 50,
   "metadata": {},
   "outputs": [
    {
     "data": {
      "text/plain": [
       "<Response [403]>"
      ]
     },
     "execution_count": 50,
     "metadata": {},
     "output_type": "execute_result"
    }
   ],
   "source": [
    "url = \"https://www.unitedstateszipcodes.org/ma/\"\n",
    "response = requests.get(url)\n",
    "browser.visit(url)\n",
    "response"
   ]
  },
  {
   "cell_type": "code",
   "execution_count": 36,
   "metadata": {},
   "outputs": [],
   "source": [
    "html = browser.html\n",
    "soup = BeautifulSoup(html, 'html.parser')"
   ]
  },
  {
   "cell_type": "code",
   "execution_count": 40,
   "metadata": {},
   "outputs": [
    {
     "name": "stdout",
     "output_type": "stream",
     "text": [
      "[<div class=\"list_text\"><div class=\"list_date\">August  9, 2019</div><div class=\"content_title\"><a href=\"/news/8501/small-satellite-mission-of-the-year/\" target=\"_self\">Small Satellite Mission of the Year</a></div><div class=\"article_teaser_body\">The first interplanetary CubeSats were recognized by the engineering community with the 2019 Small Satellite Mission of the Year award.</div></div>, <div class=\"list_text\"><div class=\"list_date\">August  5, 2019</div><div class=\"content_title\"><a href=\"/news/8499/nasa-optometrists-verify-mars-2020-rovers-2020-vision/\" target=\"_self\">NASA 'Optometrists' Verify Mars 2020 Rover's 20/20 Vision</a></div><div class=\"article_teaser_body\">Mars 2020 rover underwent an eye exam after several cameras were installed on the rover.</div></div>, <div class=\"list_text\"><div class=\"list_date\">August  5, 2019</div><div class=\"content_title\"><a href=\"/news/8498/new-finds-for-mars-rover-seven-years-after-landing/\" target=\"_self\">New Finds for Mars Rover, Seven Years After Landing</a></div><div class=\"article_teaser_body\">NASA's Curiosity rover is discovering odd rocks halfway into a region called the \"clay-bearing unit.\"</div></div>, <div class=\"list_text\"><div class=\"list_date\">August  3, 2019</div><div class=\"content_title\"><a href=\"/news/8497/medli2-installation-on-mars-2020-aeroshell-begins/\" target=\"_self\">MEDLI2 Installation on Mars 2020 Aeroshell Begins</a></div><div class=\"article_teaser_body\">Hardware installed onto NASA's Mars 2020 entry vehicle this week will help to increase the safety of future Mars landings.</div></div>, <div class=\"list_text\"><div class=\"list_date\">July 26, 2019</div><div class=\"content_title\"><a href=\"/news/8496/nasas-mars-2020-rover-does-biceps-curls/\" target=\"_self\">NASA's Mars 2020 Rover Does Biceps Curls </a></div><div class=\"article_teaser_body\">In this time-lapse video, the robotic arm on NASA's Mars 2020 rover maneuvers its 88-pound (40-kilogram) sensor-laden turret as it moves from a deployed to stowed configuration.</div></div>, <div class=\"list_text\"><div class=\"list_date\">July 24, 2019</div><div class=\"content_title\"><a href=\"/news/8495/fueling-of-nasas-mars-2020-rover-power-system-begins/\" target=\"_self\">Fueling of NASA's Mars 2020 Rover Power System Begins</a></div><div class=\"article_teaser_body\">NASA gives the go-ahead to fuel the Mars 2020 rover's Multi-Mission Radioisotope Thermoelectric Generator, which will power rover and help keep it warm while exploring Mars.</div></div>, <div class=\"list_text\"><div class=\"list_date\">July 22, 2019</div><div class=\"content_title\"><a href=\"/news/8494/what-does-a-marsquake-look-like/\" target=\"_self\">What Does a Marsquake Look Like?</a></div><div class=\"article_teaser_body\">InSight scientists used a special \"shake room\" to demonstrate the differences between quakes on Earth, the Moon and Mars.</div></div>, <div class=\"list_text\"><div class=\"list_date\">July 17, 2019</div><div class=\"content_title\"><a href=\"/news/8461/mars-2020-rover-t-minus-one-year-and-counting/\" target=\"_self\">Mars 2020 Rover: T-Minus One Year and Counting </a></div><div class=\"article_teaser_body\">The launch period for NASA's next rover, Mars 2020, opens exactly one year from today, July 17, 2020, and extends through Aug. 5, 2020.</div></div>, <div class=\"list_text\"><div class=\"list_date\">July 16, 2019</div><div class=\"content_title\"><a href=\"/news/8460/nasa-racks-up-two-emmy-nominations-for-mission-coverage/\" target=\"_self\">NASA Racks Up Two Emmy Nominations for Mission Coverage</a></div><div class=\"article_teaser_body\">JPL's coverage of the Mars InSight mission is among the efforts that will be up for an award in mid-September.</div></div>, <div class=\"list_text\"><div class=\"list_date\">July 15, 2019</div><div class=\"content_title\"><a href=\"/news/8459/want-to-colonize-mars-aerogel-could-help/\" target=\"_self\">Want to Colonize Mars? Aerogel Could Help</a></div><div class=\"article_teaser_body\">Researchers are studying whether a wonder material used in Mars rovers could help warm parts of the Red Planet rich in water ice.</div></div>, <div class=\"list_text\"><div class=\"list_date\">July 12, 2019</div><div class=\"content_title\"><a href=\"/news/8458/a-rover-pit-stop-at-jpl/\" target=\"_self\">A Rover Pit Stop at JPL</a></div><div class=\"article_teaser_body\">Working like a finely honed machine, a team of engineers in this time-lapse video clip install test wheels on another finely honed machine: NASA's Mars 2020 rover.</div></div>, <div class=\"list_text\"><div class=\"list_date\">July  2, 2019</div><div class=\"content_title\"><a href=\"/news/8457/mars-2020-rover-gets-a-super-instrument/\" target=\"_self\">Mars 2020 Rover Gets a Super Instrument</a></div><div class=\"article_teaser_body\">With its rock-zapping laser, the SuperCam will enable the science team to identify the chemical and mineral makeup of its targets on the Red Planet.</div></div>, <div class=\"list_text\"><div class=\"list_date\">July  1, 2019</div><div class=\"content_title\"><a href=\"/news/8456/a-neil-armstrong-for-mars-landing-the-mars-2020-rover/\" target=\"_self\">A Neil Armstrong for Mars: Landing the Mars 2020 Rover</a></div><div class=\"article_teaser_body\">NASA's newest rover will have an autopilot called Terrain-Relative Navigation.</div></div>, <div class=\"list_text\"><div class=\"list_date\">July  1, 2019</div><div class=\"content_title\"><a href=\"/news/8455/nasas-insight-uncovers-the-mole/\" target=\"_self\">NASA's InSight Uncovers the 'Mole' </a></div><div class=\"article_teaser_body\">The lander's robotic arm has successfully removed a piece of hardware blocking the view of its digging device in order to help with recovery efforts.</div></div>, <div class=\"list_text\"><div class=\"list_date\">June 28, 2019</div><div class=\"content_title\"><a href=\"/news/8454/mars-2020-rovers-7-foot-long-robotic-arm-installed/\" target=\"_self\">Mars 2020 Rover's 7-Foot-Long Robotic Arm Installed</a></div><div class=\"article_teaser_body\">The main robotic arm has been installed on NASA's newest rover. When complete, the arm will enable the rover to hold and use science tools like a human geologist would.</div></div>, <div class=\"list_text\"><div class=\"list_date\">June 25, 2019</div><div class=\"content_title\"><a href=\"/news/8453/nasa-selects-partners-for-mars-2020-name-the-rover-contest-seeks-judges/\" target=\"_self\">NASA Selects Partners for Mars 2020 'Name the Rover' Contest, Seeks Judges</a></div><div class=\"article_teaser_body\">The contest for U.S. schoolchildren will open in fall 2019, but judges can sign up now.</div></div>, <div class=\"list_text\"><div class=\"list_date\">June 24, 2019</div><div class=\"content_title\"><a href=\"/news/8452/curiositys-mars-methane-mystery-continues/\" target=\"_self\">Curiosity's Mars Methane Mystery Continues</a></div><div class=\"article_teaser_body\">The Curiosity rover’s follow-on sampling shows last week’s methane levels have sharply decreased.</div></div>, <div class=\"list_text\"><div class=\"list_date\">June 20, 2019</div><div class=\"content_title\"><a href=\"/news/8451/mars-2020-rover-gets-its-wheels/\" target=\"_self\">Mars 2020 Rover Gets Its Wheels</a></div><div class=\"article_teaser_body\">With the mobility suspension in place, the rover not only looks more like a rover but has many of its 'big-ticket items' installed.</div></div>, <div class=\"list_text\"><div class=\"list_date\">June 14, 2019</div><div class=\"content_title\"><a href=\"/news/8450/the-mast-is-raised-for-nasas-mars-2020-rover/\" target=\"_self\">The Mast Is Raised for NASA's Mars 2020 Rover</a></div><div class=\"article_teaser_body\">Engineers at JPL take a group selfie after attaching the remote sensing mast to the Mars 2020 rover.</div></div>, <div class=\"list_text\"><div class=\"list_date\">June 12, 2019</div><div class=\"content_title\"><a href=\"/news/8449/nasas-mars-2020-will-blaze-a-trail-for-humans/\" target=\"_self\">NASA's Mars 2020 Will Blaze a Trail — for Humans</a></div><div class=\"article_teaser_body\">The next robotic Mars mission will carry technology that will help enable astronauts to eventually explore the Red Planet.</div></div>, <div class=\"list_text\"><div class=\"list_date\">June 11, 2019</div><div class=\"content_title\"><a href=\"/news/8448/johnson-built-device-to-help-mars-2020-rover-search-for-signs-of-life/\" target=\"_self\">Johnson-Built Device to Help Mars 2020 Rover Search for Signs of Life</a></div><div class=\"article_teaser_body\">NASA’s Johnson Space Center (JSC) recently built a new calibration device for the rover to check SHERLOC’s function and properly tune it during the upcoming mission.</div></div>, <div class=\"list_text\"><div class=\"list_date\">June  6, 2019</div><div class=\"content_title\"><a href=\"/news/8447/watch-nasa-build-its-next-mars-rover/\" target=\"_self\">Watch NASA Build Its Next Mars Rover</a></div><div class=\"article_teaser_body\">A newly installed webcam offers the public a live, bird's-eye view of NASA's Mars 2020 rover as it takes shape at NASA's Jet Propulsion Laboratory. </div></div>, <div class=\"list_text\"><div class=\"list_date\">June  6, 2019</div><div class=\"content_title\"><a href=\"/news/8446/nasas-mars-helicopter-testing-enters-final-phase/\" target=\"_self\">NASA's Mars Helicopter Testing Enters Final Phase</a></div><div class=\"article_teaser_body\">NASA's Mars Helicopter flight demonstration project has passed a number of key tests with flying colors.</div></div>, <div class=\"list_text\"><div class=\"list_date\">June  5, 2019</div><div class=\"content_title\"><a href=\"/news/8445/insights-team-tries-new-strategy-to-help-the-mole/\" target=\"_self\">InSight's Team Tries New Strategy to Help the 'Mole'</a></div><div class=\"article_teaser_body\">The spacecraft's robotic arm will lift the heat probe's support structure, providing a better look at the instrument that has been trying to burrow into the Martian surface.</div></div>, <div class=\"list_text\"><div class=\"list_date\">June  5, 2019</div><div class=\"content_title\"><a href=\"/news/8444/common-questions-about-insights-mole/\" target=\"_self\">Common Questions about InSight's 'Mole'</a></div><div class=\"article_teaser_body\">There's a new plan to get InSight's \"mole\" moving again. The following Q&amp;As with two members of the team answer some of the most common questions about the burrowing device, part of a science instrument called the Heat Flow and Physical Properties Package (HP3).</div></div>, <div class=\"list_text\"><div class=\"list_date\">May 29, 2019</div><div class=\"content_title\"><a href=\"/news/8442/nasas-curiosity-mars-rover-finds-a-clay-cache/\" target=\"_self\">NASA's Curiosity Mars Rover Finds a Clay Cache</a></div><div class=\"article_teaser_body\">The rover recently drilled two samples, and both showed the highest levels of clay ever found during the mission.</div></div>, <div class=\"list_text\"><div class=\"list_date\">May 23, 2019</div><div class=\"content_title\"><a href=\"/news/8443/nasa-to-land-in-mars-pennsylvania-to-celebrate-red-planet-with-steam/\" target=\"_self\">NASA to Land in Mars, Pennsylvania to Celebrate Red Planet with STEAM</a></div><div class=\"article_teaser_body\">NASA returns to Mars, Pennsylvania Friday, May 31 to celebrate Mars exploration and share the agency’s excitement about landing astronauts on the Moon in five years.</div></div>, <div class=\"list_text\"><div class=\"list_date\">May 23, 2019</div><div class=\"content_title\"><a href=\"/news/8441/nasas-mars-2020-gets-a-dose-of-space-here-on-earth/\" target=\"_self\">NASA's Mars 2020 Gets a Dose of Space Here on Earth</a></div><div class=\"article_teaser_body\">NASA's Mars 2020 spacecraft has completed tests that are the best Earthly approximations of what the spacecraft will endure during launch and interplanetary cruise.</div></div>, <div class=\"list_text\"><div class=\"list_date\">May 21, 2019</div><div class=\"content_title\"><a href=\"/news/8440/nasa-invites-public-to-submit-names-to-fly-aboard-next-mars-rover/\" target=\"_self\">NASA Invites Public to Submit Names to Fly Aboard Next Mars Rover</a></div><div class=\"article_teaser_body\">From now till Sept. 30, the public can submit names to be stenciled on chips that will fly on the Mars 2020 rover and receive a souvenir boarding pass.</div></div>, <div class=\"list_text\"><div class=\"list_date\">May 15, 2019</div><div class=\"content_title\"><a href=\"/news/8438/nasas-mro-completes-60000-trips-around-mars/\" target=\"_self\">NASA's MRO Completes 60,000 Trips Around Mars</a></div><div class=\"article_teaser_body\">The orbiting spacecraft is also about to set a record for data relayed from the Martian surface.</div></div>, <div class=\"list_text\"><div class=\"list_date\">May 15, 2019</div><div class=\"content_title\"><a href=\"/news/8437/video-fly-over-mount-sharp-on-mars/\" target=\"_self\">Video: Fly over Mount Sharp on Mars</a></div><div class=\"article_teaser_body\">A new animation shows the region NASA's Curiosity rover is currently exploring and where its team wants to go in the future.</div></div>, <div class=\"list_text\"><div class=\"list_date\">May  9, 2019</div><div class=\"content_title\"><a href=\"/news/8436/why-this-martian-full-moon-looks-like-candy/\" target=\"_self\">Why This Martian Full Moon Looks Like Candy</a></div><div class=\"article_teaser_body\">For the first time, NASA's Mars Odyssey orbiter has caught the Martian moon Phobos during a full moon phase. Each color in this new image represents a temperature range detected by Odyssey's infrared camera.</div></div>, <div class=\"list_text\"><div class=\"list_date\">May  6, 2019</div><div class=\"content_title\"><a href=\"/news/8433/for-insight-dust-cleanings-will-yield-new-science/\" target=\"_self\">For InSight, Dust Cleanings Will Yield New Science</a></div><div class=\"article_teaser_body\">Wind can be crucial to clearing dust from spacecraft solar panels on Mars. With InSight's meteorological sensors, scientists get their first measurements of wind and dust interacting \"live\" on the Martian surface.  </div></div>, <div class=\"list_text\"><div class=\"list_date\">May  1, 2019</div><div class=\"content_title\"><a href=\"/news/8432/insight-captures-sunrise-and-sunset-on-mars/\" target=\"_self\">InSight Captures Sunrise and Sunset on Mars</a></div><div class=\"article_teaser_body\">InSight joins the rest of NASA's Red Planet surface missions, all of which have photographed either the start or end of a Martian day.</div></div>, <div class=\"list_text\"><div class=\"list_date\">April 23, 2019</div><div class=\"content_title\"><a href=\"/news/8431/nasa-social-media-and-websites-win-webby-awards/\" target=\"_self\">NASA Social Media and Websites Win Webby Awards </a></div><div class=\"article_teaser_body\">NASA's social media presence, the InSight mission social media accounts, NASA.gov and SolarSystem.NASA.gov will be honored at the 2019 Webby Awards - \"the Oscars of the Internet.\"</div></div>, <div class=\"list_text\"><div class=\"list_date\">April 23, 2019</div><div class=\"content_title\"><a href=\"/news/8430/nasas-insight-detects-first-likely-quake-on-mars/\" target=\"_self\">NASA's InSight Detects First Likely 'Quake' on Mars</a></div><div class=\"article_teaser_body\">While their causes are still unknown, one of three shaking events looks a lot like the quakes detected on the Moon by the Apollo missions.</div></div>, <div class=\"list_text\"><div class=\"list_date\">April 18, 2019</div><div class=\"content_title\"><a href=\"/news/8428/things-are-stacking-up-for-nasas-mars-2020-spacecraft/\" target=\"_self\">Things Are Stacking up for NASA's Mars 2020 Spacecraft</a></div><div class=\"article_teaser_body\">As the July 2020 launch date inches closer, the next spacecraft headed to the Red Planet is assembled for more testing.</div></div>, <div class=\"list_text\"><div class=\"list_date\">April 11, 2019</div><div class=\"content_title\"><a href=\"/news/8427/curiosity-tastes-first-sample-in-clay-bearing-unit/\" target=\"_self\">Curiosity Tastes First Sample in 'Clay-Bearing Unit'</a></div><div class=\"article_teaser_body\">This new region on Mars might reveal more about the role of water on Mount Sharp.</div></div>, <div class=\"list_text\"><div class=\"list_date\">April 11, 2019</div><div class=\"content_title\"><a href=\"/news/8419/more-testing-for-mars-insights-mole/\" target=\"_self\">More Testing for Mars InSight's 'Mole'</a></div><div class=\"article_teaser_body\">After the mission's heat probe began hammering last week, it appears to have hit a rock. The team is analyzing data before they hammer again.</div></div>, <div class=\"list_text\"><div class=\"list_date\">April  5, 2019</div><div class=\"content_title\"><a href=\"/news/8426/nasa-garners-7-webby-award-nominations/\" target=\"_self\">NASA Garners 7 Webby Award Nominations</a></div><div class=\"article_teaser_body\">Nominees include four JPL projects: the solar system and climate websites, InSight social media, and a 360-degree Earth video. Public voting closes April 18, 2019.</div></div>]\n"
     ]
    }
   ],
   "source": [
    "print(slide_elem)"
   ]
  },
  {
   "cell_type": "code",
   "execution_count": 38,
   "metadata": {},
   "outputs": [
    {
     "ename": "ValueError",
     "evalue": "Cannot insert a tag into itself.",
     "output_type": "error",
     "traceback": [
      "\u001b[1;31m---------------------------------------------------------------------------\u001b[0m",
      "\u001b[1;31mValueError\u001b[0m                                Traceback (most recent call last)",
      "\u001b[1;32m<ipython-input-38-230f50b7373f>\u001b[0m in \u001b[0;36m<module>\u001b[1;34m\u001b[0m\n\u001b[0;32m      5\u001b[0m     \u001b[0mnews_title\u001b[0m \u001b[1;33m=\u001b[0m \u001b[0melement\u001b[0m\u001b[1;33m.\u001b[0m\u001b[0mfind\u001b[0m\u001b[1;33m(\u001b[0m\u001b[1;34m'div'\u001b[0m\u001b[1;33m,\u001b[0m \u001b[0mclass_\u001b[0m\u001b[1;33m=\u001b[0m\u001b[1;34m'content_title'\u001b[0m\u001b[1;33m)\u001b[0m\u001b[1;33m\u001b[0m\u001b[1;33m\u001b[0m\u001b[0m\n\u001b[0;32m      6\u001b[0m     \u001b[0mnews_p\u001b[0m \u001b[1;33m=\u001b[0m \u001b[0melement\u001b[0m\u001b[1;33m.\u001b[0m\u001b[0mfind\u001b[0m\u001b[1;33m(\u001b[0m\u001b[1;34m'div'\u001b[0m\u001b[1;33m,\u001b[0m \u001b[0mclass_\u001b[0m\u001b[1;33m=\u001b[0m\u001b[1;34m'article_teaser_body'\u001b[0m\u001b[1;33m)\u001b[0m\u001b[1;33m\u001b[0m\u001b[1;33m\u001b[0m\u001b[0m\n\u001b[1;32m----> 7\u001b[1;33m     \u001b[0mnews_title\u001b[0m\u001b[1;33m.\u001b[0m\u001b[0mappend\u001b[0m\u001b[1;33m(\u001b[0m\u001b[0mnews_title\u001b[0m\u001b[1;33m)\u001b[0m\u001b[1;33m\u001b[0m\u001b[1;33m\u001b[0m\u001b[0m\n\u001b[0m\u001b[0;32m      8\u001b[0m     \u001b[0mnews_p\u001b[0m\u001b[1;33m.\u001b[0m\u001b[0mappend\u001b[0m\u001b[1;33m(\u001b[0m\u001b[0mnews_p\u001b[0m\u001b[1;33m)\u001b[0m\u001b[1;33m\u001b[0m\u001b[1;33m\u001b[0m\u001b[0m\n\u001b[0;32m      9\u001b[0m \u001b[1;33m\u001b[0m\u001b[0m\n",
      "\u001b[1;32m~\\Anaconda3\\lib\\site-packages\\bs4\\element.py\u001b[0m in \u001b[0;36mappend\u001b[1;34m(self, tag)\u001b[0m\n\u001b[0;32m    439\u001b[0m     \u001b[1;32mdef\u001b[0m \u001b[0mappend\u001b[0m\u001b[1;33m(\u001b[0m\u001b[0mself\u001b[0m\u001b[1;33m,\u001b[0m \u001b[0mtag\u001b[0m\u001b[1;33m)\u001b[0m\u001b[1;33m:\u001b[0m\u001b[1;33m\u001b[0m\u001b[1;33m\u001b[0m\u001b[0m\n\u001b[0;32m    440\u001b[0m         \u001b[1;34m\"\"\"Appends the given tag to the contents of this tag.\"\"\"\u001b[0m\u001b[1;33m\u001b[0m\u001b[1;33m\u001b[0m\u001b[0m\n\u001b[1;32m--> 441\u001b[1;33m         \u001b[0mself\u001b[0m\u001b[1;33m.\u001b[0m\u001b[0minsert\u001b[0m\u001b[1;33m(\u001b[0m\u001b[0mlen\u001b[0m\u001b[1;33m(\u001b[0m\u001b[0mself\u001b[0m\u001b[1;33m.\u001b[0m\u001b[0mcontents\u001b[0m\u001b[1;33m)\u001b[0m\u001b[1;33m,\u001b[0m \u001b[0mtag\u001b[0m\u001b[1;33m)\u001b[0m\u001b[1;33m\u001b[0m\u001b[1;33m\u001b[0m\u001b[0m\n\u001b[0m\u001b[0;32m    442\u001b[0m \u001b[1;33m\u001b[0m\u001b[0m\n\u001b[0;32m    443\u001b[0m     \u001b[1;32mdef\u001b[0m \u001b[0mextend\u001b[0m\u001b[1;33m(\u001b[0m\u001b[0mself\u001b[0m\u001b[1;33m,\u001b[0m \u001b[0mtags\u001b[0m\u001b[1;33m)\u001b[0m\u001b[1;33m:\u001b[0m\u001b[1;33m\u001b[0m\u001b[1;33m\u001b[0m\u001b[0m\n",
      "\u001b[1;32m~\\Anaconda3\\lib\\site-packages\\bs4\\element.py\u001b[0m in \u001b[0;36minsert\u001b[1;34m(self, position, new_child)\u001b[0m\n\u001b[0;32m    367\u001b[0m             \u001b[1;32mraise\u001b[0m \u001b[0mValueError\u001b[0m\u001b[1;33m(\u001b[0m\u001b[1;34m\"Cannot insert None into a tag.\"\u001b[0m\u001b[1;33m)\u001b[0m\u001b[1;33m\u001b[0m\u001b[1;33m\u001b[0m\u001b[0m\n\u001b[0;32m    368\u001b[0m         \u001b[1;32mif\u001b[0m \u001b[0mnew_child\u001b[0m \u001b[1;32mis\u001b[0m \u001b[0mself\u001b[0m\u001b[1;33m:\u001b[0m\u001b[1;33m\u001b[0m\u001b[1;33m\u001b[0m\u001b[0m\n\u001b[1;32m--> 369\u001b[1;33m             \u001b[1;32mraise\u001b[0m \u001b[0mValueError\u001b[0m\u001b[1;33m(\u001b[0m\u001b[1;34m\"Cannot insert a tag into itself.\"\u001b[0m\u001b[1;33m)\u001b[0m\u001b[1;33m\u001b[0m\u001b[1;33m\u001b[0m\u001b[0m\n\u001b[0m\u001b[0;32m    370\u001b[0m         if (isinstance(new_child, str)\n\u001b[0;32m    371\u001b[0m             and not isinstance(new_child, NavigableString)):\n",
      "\u001b[1;31mValueError\u001b[0m: Cannot insert a tag into itself."
     ]
    }
   ],
   "source": [
    "slide_elem = soup.find_all(\"div\", class_=\"list_text\")\n",
    "news_title = []\n",
    "news_p = []\n",
    "for element in slide_elem:\n",
    "    news_title = element.find('div', class_='content_title')\n",
    "    news_p = element.find('div', class_='article_teaser_body')\n",
    "    news_title.append(news_title)\n",
    "    news_p.append(news_p)\n",
    "    \n",
    "\n",
    "\n"
   ]
  },
  {
   "cell_type": "code",
   "execution_count": null,
   "metadata": {},
   "outputs": [],
   "source": []
  },
  {
   "cell_type": "code",
   "execution_count": 32,
   "metadata": {},
   "outputs": [
    {
     "data": {
      "text/plain": [
       "[]"
      ]
     },
     "execution_count": 32,
     "metadata": {},
     "output_type": "execute_result"
    }
   ],
   "source": [
    "news_title"
   ]
  },
  {
   "cell_type": "code",
   "execution_count": 27,
   "metadata": {},
   "outputs": [],
   "source": []
  },
  {
   "cell_type": "code",
   "execution_count": null,
   "metadata": {},
   "outputs": [],
   "source": []
  }
 ],
 "metadata": {
  "kernelspec": {
   "display_name": "Python 3",
   "language": "python",
   "name": "python3"
  },
  "language_info": {
   "codemirror_mode": {
    "name": "ipython",
    "version": 3
   },
   "file_extension": ".py",
   "mimetype": "text/x-python",
   "name": "python",
   "nbconvert_exporter": "python",
   "pygments_lexer": "ipython3",
   "version": "3.7.3"
  }
 },
 "nbformat": 4,
 "nbformat_minor": 2
}
